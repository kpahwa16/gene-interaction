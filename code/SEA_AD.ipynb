{
 "cells": [
  {
   "cell_type": "code",
   "execution_count": 1,
   "id": "5799e2a3",
   "metadata": {},
   "outputs": [],
   "source": [
    "import scanpy as sc\n",
    "import pandas as pd\n",
    "import numpy as np\n",
    "import matplotlib.pyplot as plt\n",
    "import seaborn as sns\n",
    "import hdf5plugin\n",
    "import os"
   ]
  },
  {
   "cell_type": "code",
   "execution_count": 2,
   "id": "54063e47",
   "metadata": {},
   "outputs": [],
   "source": [
    "path_data = '/data/yyang18/database/SEA-AD/'"
   ]
  },
  {
   "cell_type": "markdown",
   "id": "b3afe050",
   "metadata": {},
   "source": [
    "Load the raw data"
   ]
  },
  {
   "cell_type": "code",
   "execution_count": 3,
   "id": "50a3a77d",
   "metadata": {},
   "outputs": [],
   "source": [
    "data = sc.read_h5ad(os.path.join(path_data, 'MTG', 'RNAseq',\n",
    "                                 'SEAAD_MTG_RNAseq_final-nuclei.2022-08-18.h5ad'))"
   ]
  },
  {
   "cell_type": "code",
   "execution_count": 4,
   "id": "f5896b75",
   "metadata": {},
   "outputs": [
    {
     "data": {
      "text/plain": [
       "AnnData object with n_obs × n_vars = 1378211 × 36601\n",
       "    obs: 'sample_id', 'Neurotypical reference', 'Donor ID', 'Organism', 'Brain Region', 'Sex', 'Gender', 'Age at Death', 'Race (choice=White)', 'Race (choice=Black/ African American)', 'Race (choice=Asian)', 'Race (choice=American Indian/ Alaska Native)', 'Race (choice=Native Hawaiian or Pacific Islander)', 'Race (choice=Unknown or unreported)', 'Race (choice=Other)', 'specify other race', 'Hispanic/Latino', 'Highest level of education', 'Years of education', 'PMI', 'Fresh Brain Weight', 'Brain pH', 'Overall AD neuropathological Change', 'Thal', 'Braak', 'CERAD score', 'Overall CAA Score', 'Highest Lewy Body Disease', 'Total Microinfarcts (not observed grossly)', 'Total microinfarcts in screening sections', 'Atherosclerosis', 'Arteriolosclerosis', 'LATE', 'Cognitive Status', 'Last CASI Score', 'Interval from last CASI in months', 'Last MMSE Score', 'Interval from last MMSE in months', 'Last MOCA Score', 'Interval from last MOCA in months', 'APOE4 Status', 'Primary Study Name', 'Secondary Study Name', 'NeuN positive fraction on FANS', 'RIN', 'cell_prep_type', 'facs_population_plan', 'rna_amplification', 'sample_name', 'sample_quantity_count', 'expc_cell_capture', 'method', 'pcr_cycles', 'percent_cdna_longer_than_400bp', 'rna_amplification_pass_fail', 'amplified_quantity_ng', 'load_name', 'library_prep', 'library_input_ng', 'r1_index', 'avg_size_bp', 'quantification_fmol', 'library_prep_pass_fail', 'exp_component_vendor_name', 'batch_vendor_name', 'experiment_component_failed', 'alignment', 'Genome', 'ar_id', 'bc', 'GEX_Estimated_number_of_cells', 'GEX_number_of_reads', 'GEX_sequencing_saturation', 'GEX_Mean_raw_reads_per_cell', 'GEX_Q30_bases_in_barcode', 'GEX_Q30_bases_in_read_2', 'GEX_Q30_bases_in_UMI', 'GEX_Percent_duplicates', 'GEX_Q30_bases_in_sample_index_i1', 'GEX_Q30_bases_in_sample_index_i2', 'GEX_Reads_with_TSO', 'GEX_Sequenced_read_pairs', 'GEX_Valid_UMIs', 'GEX_Valid_barcodes', 'GEX_Reads_mapped_to_genome', 'GEX_Reads_mapped_confidently_to_genome', 'GEX_Reads_mapped_confidently_to_intergenic_regions', 'GEX_Reads_mapped_confidently_to_intronic_regions', 'GEX_Reads_mapped_confidently_to_exonic_regions', 'GEX_Reads_mapped_confidently_to_transcriptome', 'GEX_Reads_mapped_antisense_to_gene', 'GEX_Fraction_of_transcriptomic_reads_in_cells', 'GEX_Total_genes_detected', 'GEX_Median_UMI_counts_per_cell', 'GEX_Median_genes_per_cell', 'Multiome_Feature_linkages_detected', 'Multiome_Linked_genes', 'Multiome_Linked_peaks', 'ATAC_Confidently_mapped_read_pairs', 'ATAC_Fraction_of_genome_in_peaks', 'ATAC_Fraction_of_high_quality_fragments_in_cells', 'ATAC_Fraction_of_high_quality_fragments_overlapping_TSS', 'ATAC_Fraction_of_high_quality_fragments_overlapping_peaks', 'ATAC_Fraction_of_transposition_events_in_peaks_in_cells', 'ATAC_Mean_raw_read_pairs_per_cell', 'ATAC_Median_high_quality_fragments_per_cell', 'ATAC_Non-nuclear_read_pairs', 'ATAC_Number_of_peaks', 'ATAC_Percent_duplicates', 'ATAC_Q30_bases_in_barcode', 'ATAC_Q30_bases_in_read_1', 'ATAC_Q30_bases_in_read_2', 'ATAC_Q30_bases_in_sample_index_i1', 'ATAC_Sequenced_read_pairs', 'ATAC_TSS_enrichment_score', 'ATAC_Unmapped_read_pairs', 'ATAC_Valid_barcodes', 'Number of mapped reads', 'Number of unmapped reads', 'Number of multimapped reads', 'Number of reads', 'Number of UMIs', 'Genes detected', 'Doublet score', 'Fraction mitochondrial UMIs', 'Used in analysis', 'Class confidence', 'Class', 'Subclass confidence', 'Subclass', 'Supertype confidence', 'Supertype (non-expanded)', 'Supertype'\n",
       "    var: 'gene_ids'\n",
       "    uns: 'APOE4 Status_colors', 'Braak_colors', 'CERAD score_colors', 'Cognitive Status_colors', 'Great Apes Metadata', 'Highest Lewy Body Disease_colors', 'LATE_colors', 'Overall AD neuropathological Change_colors', 'Sex_colors', 'Subclass_colors', 'Supertype_colors', 'Thal_colors', 'UW Clinical Metadata', 'X_normalization', 'batch_condition', 'default_embedding', 'neighbors', 'title', 'umap'\n",
       "    obsm: 'X_scVI', 'X_umap'\n",
       "    layers: 'UMIs'\n",
       "    obsp: 'connectivities', 'distances'"
      ]
     },
     "execution_count": 4,
     "metadata": {},
     "output_type": "execute_result"
    }
   ],
   "source": [
    "data"
   ]
  },
  {
   "cell_type": "markdown",
   "id": "28f153dc",
   "metadata": {},
   "source": [
    "save cell_information and cell_counts"
   ]
  },
  {
   "cell_type": "code",
   "execution_count": 5,
   "id": "48ebd9fc",
   "metadata": {},
   "outputs": [],
   "source": [
    "cell_information = data.obs"
   ]
  },
  {
   "cell_type": "code",
   "execution_count": 6,
   "id": "f771f94a",
   "metadata": {},
   "outputs": [],
   "source": [
    "# remove 5 reference samples, only keep cells from 84 aged patients\n",
    "cell_information = cell_information[cell_information['Overall AD neuropathological Change']!='Reference']"
   ]
  },
  {
   "cell_type": "code",
   "execution_count": 7,
   "id": "16b7fcfd",
   "metadata": {},
   "outputs": [
    {
     "data": {
      "text/plain": [
       "(1240908, 133)"
      ]
     },
     "execution_count": 7,
     "metadata": {},
     "output_type": "execute_result"
    }
   ],
   "source": [
    "cell_information.shape"
   ]
  },
  {
   "cell_type": "code",
   "execution_count": 8,
   "id": "569ad716",
   "metadata": {},
   "outputs": [],
   "source": [
    "# The metadata of cells\n",
    "cell_information.to_csv(os.path.join(path_data, 'out', 'cell_information.csv'),\n",
    "                                     index=False)"
   ]
  },
  {
   "cell_type": "code",
   "execution_count": 9,
   "id": "0de7586c",
   "metadata": {},
   "outputs": [],
   "source": [
    "# Count the number of cells in each cell type\n",
    "cell_counts = cell_information[['Overall AD neuropathological Change','Subclass']].value_counts().rename_axis(['Overall AD neuropathological Change','Subclass']).reset_index(name='counts')\n",
    "cell_counts = cell_counts.sort_values('Subclass')\n",
    "cell_counts.to_csv(os.path.join(path_data, 'out', 'cell_count.csv'),\n",
    "                                index=False)"
   ]
  },
  {
   "cell_type": "markdown",
   "id": "9d2a9ea8",
   "metadata": {},
   "source": [
    "save gene_list"
   ]
  },
  {
   "cell_type": "code",
   "execution_count": 10,
   "id": "fa0a3fbb",
   "metadata": {},
   "outputs": [],
   "source": [
    "gene_list = data.var"
   ]
  },
  {
   "cell_type": "code",
   "execution_count": 11,
   "id": "5bcb0bb8",
   "metadata": {},
   "outputs": [],
   "source": [
    "# The list of genes\n",
    "gene_list.to_csv(os.path.join(path_data, 'out', 'gene_list.csv'),\n",
    "                              index=False)"
   ]
  },
  {
   "cell_type": "markdown",
   "id": "952615ac",
   "metadata": {},
   "source": [
    "save expression_matrix by different cell types"
   ]
  },
  {
   "cell_type": "code",
   "execution_count": 12,
   "id": "2f67a76c",
   "metadata": {},
   "outputs": [],
   "source": [
    "expression_matrix = pd.DataFrame(data.X.toarray(), index=data.obs_names)"
   ]
  },
  {
   "cell_type": "code",
   "execution_count": 13,
   "id": "28b87b83",
   "metadata": {},
   "outputs": [],
   "source": [
    "expression_matrix.columns = data.var_names"
   ]
  },
  {
   "cell_type": "code",
   "execution_count": 14,
   "id": "e00225eb",
   "metadata": {},
   "outputs": [],
   "source": [
    "# remove reference samples, only keep cells from 84 aged patients\n",
    "expression_matrix = expression_matrix[expression_matrix.index.isin(cell_information['sample_id'].to_list())]"
   ]
  },
  {
   "cell_type": "code",
   "execution_count": 15,
   "id": "f36d050e",
   "metadata": {},
   "outputs": [
    {
     "data": {
      "text/plain": [
       "(1240908, 36601)"
      ]
     },
     "execution_count": 15,
     "metadata": {},
     "output_type": "execute_result"
    }
   ],
   "source": [
    "expression_matrix.shape"
   ]
  },
  {
   "cell_type": "code",
   "execution_count": 27,
   "id": "999a106b",
   "metadata": {},
   "outputs": [],
   "source": [
    "# Save the gene expression data of each cell type separately\n",
    "l_cell_type = []\n",
    "l_data = []\n",
    "n = 0\n",
    "for name, group in cell_information[['Overall AD neuropathological Change', 'Subclass']].groupby('Subclass'):\n",
    "    matrix = expression_matrix[expression_matrix.index.isin(group.index.to_list())]\n",
    "    adata = sc.AnnData(X = matrix.to_numpy(), var = gene_list, obs = group)\n",
    "    adata.write_h5ad(os.path.join(path_data, 'out', 'gene_expression',\n",
    "                                  'cell_type_'+str(n)+'.h5ad'),\n",
    "                     compression=hdf5plugin.FILTERS[\"zstd\"],\n",
    "                     compression_opts=hdf5plugin.Zstd(clevel=5).filter_options)\n",
    "    l_cell_type.append(name)\n",
    "    l_data.append('cell_type_'+str(n)+'.h5ad')\n",
    "    n += 1"
   ]
  },
  {
   "cell_type": "code",
   "execution_count": 28,
   "id": "3402e24f",
   "metadata": {},
   "outputs": [],
   "source": [
    "# Save the file about cell types and their h5ad filename and the number of expressed genes\n",
    "h5ad = pd.DataFrame({'cell_type':l_cell_type, \n",
    "                     'data':l_data})\n",
    "h5ad.to_csv(os.path.join(path_data, 'out', 'h5ad.csv'),\n",
    "            index=False)"
   ]
  },
  {
   "cell_type": "code",
   "execution_count": null,
   "id": "c7072eac",
   "metadata": {},
   "outputs": [],
   "source": []
  },
  {
   "cell_type": "code",
   "execution_count": null,
   "id": "6f30bf57",
   "metadata": {},
   "outputs": [],
   "source": []
  }
 ],
 "metadata": {
  "kernelspec": {
   "display_name": "feature_interaction",
   "language": "python",
   "name": "feature_interaction"
  },
  "language_info": {
   "codemirror_mode": {
    "name": "ipython",
    "version": 3
   },
   "file_extension": ".py",
   "mimetype": "text/x-python",
   "name": "python",
   "nbconvert_exporter": "python",
   "pygments_lexer": "ipython3",
   "version": "3.9.17"
  }
 },
 "nbformat": 4,
 "nbformat_minor": 5
}
